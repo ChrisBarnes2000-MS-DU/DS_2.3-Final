{
 "cells": [
  {
   "cell_type": "markdown",
   "metadata": {},
   "source": [
    "Fianl --> For option (1), Train a model for toxic versus non-toxic classifier While the model is on AWS and DB in on FireBase Then make a FireBase API call to get how many users have called the model API so far \"Deploy your supervised/unsupervised model on AWS with logs of API users’ interactions on FireBase\"\n",
    "\n",
    "For option (3), Manipulate data-frame with Pyspark and train a ML/DL model all using Pyspark"
   ]
  },
  {
   "cell_type": "code",
   "execution_count": null,
   "metadata": {},
   "outputs": [],
   "source": []
  },
  {
   "cell_type": "code",
   "execution_count": null,
   "metadata": {},
   "outputs": [],
   "source": []
  },
  {
   "cell_type": "code",
   "execution_count": null,
   "metadata": {},
   "outputs": [],
   "source": []
  },
  {
   "cell_type": "code",
   "execution_count": null,
   "metadata": {},
   "outputs": [],
   "source": []
  },
  {
   "cell_type": "code",
   "execution_count": null,
   "metadata": {},
   "outputs": [],
   "source": []
  },
  {
   "cell_type": "markdown",
   "metadata": {},
   "source": [
    "## Resources for Pyspark:\n",
    "\n",
    "- [Set up Apache Spark on a Multi-Node Cluster] (https://medium.com/ymedialabs-innovation/apache-spark-on-a-multi-node-cluster-b75967c8cb2b) -> DevOps Engineering\n",
    "\n",
    "- Pyspark Tutorial: https://www.youtube.com/watch?v=5dARTeE6OpU\n",
    "\n",
    "- Learning Apache Spark with Python: https://runawayhorse001.github.io/LearningApacheSpark/index.html\n",
    "\n",
    "- A Problem-Solution Approach with PySpark2 -> is a great book by Raju Kumar Mishra\n",
    "\n",
    "- MLlib Pyspark: https://www.youtube.com/watch?v=oDTJxEl95Go&t=838s -> Kmeans and Logistic Regression\n",
    "\n",
    "- Elephas: Distributed Deep Learning with Keras & Spark: https://github.com/maxpumperla/elephas\n",
    "\n",
    "- Tensorflow on Spark: https://github.com/yahoo/TensorFlowOnSpark/tree/master/examples/mnist/keras\n",
    "\n",
    "- Databricks: https://community.cloud.databricks.com/\n",
    "\n",
    "- Convert Pyspark Dense Vector into numpy array: http://blog.madhukaraphatak.com/spark-vector-to-numpy/\n",
    "\n",
    "- MSE Evaluation in Pyspark: https://spark.apache.org/docs/0.9.0/mllib-guide.html"
   ]
  }
 ],
 "metadata": {
  "kernelspec": {
   "display_name": "Python 3",
   "language": "python",
   "name": "python3"
  },
  "language_info": {
   "codemirror_mode": {
    "name": "ipython",
    "version": 3
   },
   "file_extension": ".py",
   "mimetype": "text/x-python",
   "name": "python",
   "nbconvert_exporter": "python",
   "pygments_lexer": "ipython3",
   "version": "3.8.1"
  }
 },
 "nbformat": 4,
 "nbformat_minor": 2
}
